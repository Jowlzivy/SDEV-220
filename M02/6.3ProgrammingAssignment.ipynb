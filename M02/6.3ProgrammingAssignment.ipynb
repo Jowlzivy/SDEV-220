{
 "cells": [
  {
   "cell_type": "code",
   "execution_count": null,
   "id": "f37bb963",
   "metadata": {},
   "outputs": [],
   "source": [
    "guess_me = 5\n",
    "\n",
    "for number in range(10):\n",
    "\n",
    "    if guess_me > number:\n",
    "        print('oops')\n",
    "        print(number)\n",
    "        exit\n",
    "\n",
    "    elif guess_me < number:\n",
    "        print('too low')\n",
    "        print(number)\n",
    "\n",
    "    elif guess_me == number:\n",
    "        print('found it!')\n",
    "        print(number)\n",
    "        break"
   ]
  }
 ],
 "metadata": {
  "kernelspec": {
   "display_name": "Python 3 (ipykernel)",
   "language": "python",
   "name": "python3"
  },
  "language_info": {
   "codemirror_mode": {
    "name": "ipython",
    "version": 3
   },
   "file_extension": ".py",
   "mimetype": "text/x-python",
   "name": "python",
   "nbconvert_exporter": "python",
   "pygments_lexer": "ipython3",
   "version": "3.10.9"
  }
 },
 "nbformat": 4,
 "nbformat_minor": 5
}
