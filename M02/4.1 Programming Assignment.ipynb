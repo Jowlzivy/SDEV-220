{
 "cells": [
  {
   "cell_type": "code",
   "execution_count": null,
   "id": "74b0216b",
   "metadata": {},
   "outputs": [],
   "source": [
    "import random;\n",
    "\n",
    "secret = (random.randint(1,10))\n",
    "\n",
    "guess = input('Guess a number between 1 and 10: ')\n",
    "\n",
    "guess = int(guess)\n",
    "\n",
    "if guess > secret:\n",
    "    print('too high')\n",
    "\n",
    "elif guess < secret:\n",
    "    print('too low')\n",
    "\n",
    "else:\n",
    "    print('just right')"
   ]
  }
 ],
 "metadata": {
  "kernelspec": {
   "display_name": "Python 3 (ipykernel)",
   "language": "python",
   "name": "python3"
  },
  "language_info": {
   "codemirror_mode": {
    "name": "ipython",
    "version": 3
   },
   "file_extension": ".py",
   "mimetype": "text/x-python",
   "name": "python",
   "nbconvert_exporter": "python",
   "pygments_lexer": "ipython3",
   "version": "3.10.9"
  }
 },
 "nbformat": 4,
 "nbformat_minor": 5
}
