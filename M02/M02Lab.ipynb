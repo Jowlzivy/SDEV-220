{
 "cells": [
  {
   "cell_type": "code",
   "execution_count": 1,
   "id": "19e606c4",
   "metadata": {},
   "outputs": [
    {
     "name": "stdout",
     "output_type": "stream",
     "text": [
      "What is your last name?Tarentino\n",
      "What is your first name?Quintin\n",
      "What is your GPA?4\n",
      "Student has made the Dean's list\n",
      "What is your last name?Mescudi\n",
      "What is your first name?Scott\n",
      "What is your GPA?3.5\n",
      "Student has made the Dean's list\n",
      "What is your last name?Kurosaki\n",
      "What is your first name?Ichigo\n",
      "What is your GPA?3.3\n",
      "Student has made the Honor Roll\n",
      "What is your last name?Baggins\n",
      "What is your first name?Frodo\n",
      "What is your GPA?3\n",
      "Student did not make Dean's list nor Honor Roll\n",
      "What is your last name?Uzumaki\n",
      "What is your first name?Naruto\n",
      "What is your GPA?1\n",
      "Student did not make Dean's list nor Honor Roll\n",
      "What is your last name?ZZZ\n"
     ]
    }
   ],
   "source": [
    "#JJ owsley\n",
    "#M02Lab.ipynb\n",
    "#Application will ask user to enter first and last name and then gpa and will let user know whether they made either of the deans list or honor roll.\n",
    "\n",
    "i = float(0);\n",
    "LastName = ' '\n",
    "\n",
    "while LastName != 'ZZZ' and i != 10:\n",
    "    LastName = input('What is your last name?')\n",
    "    if LastName == 'ZZZ':\n",
    "        break\n",
    "    FirstName = input('What is your first name?')\n",
    "    GPA = float(input('What is your GPA?'))\n",
    "\n",
    "    if GPA >= 3.5:\n",
    "        print(\"Student has made the Dean's list\")\n",
    "        i += 1\n",
    "    elif GPA >= 3.25:\n",
    "        print('Student has made the Honor Roll')\n",
    "        i += 1\n",
    "    else:\n",
    "        print(\"Student did not make Dean's list nor Honor Roll\")"
   ]
  },
  {
   "cell_type": "code",
   "execution_count": null,
   "id": "bdd551e7",
   "metadata": {},
   "outputs": [],
   "source": []
  }
 ],
 "metadata": {
  "kernelspec": {
   "display_name": "Python 3 (ipykernel)",
   "language": "python",
   "name": "python3"
  },
  "language_info": {
   "codemirror_mode": {
    "name": "ipython",
    "version": 3
   },
   "file_extension": ".py",
   "mimetype": "text/x-python",
   "name": "python",
   "nbconvert_exporter": "python",
   "pygments_lexer": "ipython3",
   "version": "3.10.9"
  }
 },
 "nbformat": 4,
 "nbformat_minor": 5
}
