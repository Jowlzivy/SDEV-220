{
 "cells": [
  {
   "cell_type": "code",
   "execution_count": null,
   "id": "dbe33940",
   "metadata": {},
   "outputs": [],
   "source": [
    "guess_me = 7\n",
    "\n",
    "number = 1\n",
    "\n",
    "while guess_me != ' ' and number != ' ':\n",
    "\n",
    "    if guess_me > number:\n",
    "        print('oops')\n",
    "        number += 1\n",
    "\n",
    "    elif guess_me < number:\n",
    "        print('too low')\n",
    "        number -= 1\n",
    "\n",
    "    elif guess_me == number:\n",
    "        print('found it!')\n",
    "        break "
   ]
  }
 ],
 "metadata": {
  "kernelspec": {
   "display_name": "Python 3 (ipykernel)",
   "language": "python",
   "name": "python3"
  },
  "language_info": {
   "codemirror_mode": {
    "name": "ipython",
    "version": 3
   },
   "file_extension": ".py",
   "mimetype": "text/x-python",
   "name": "python",
   "nbconvert_exporter": "python",
   "pygments_lexer": "ipython3",
   "version": "3.10.9"
  }
 },
 "nbformat": 4,
 "nbformat_minor": 5
}
