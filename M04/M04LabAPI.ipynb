{
 "cells": [
  {
   "cell_type": "code",
   "execution_count": null,
   "id": "d382efca",
   "metadata": {},
   "outputs": [],
   "source": [
    "from flask import Flask, request\n",
    "from flask_sqlalchemy import SQLAlchemy\n",
    "app = Flask(__name__)\n",
    "\n",
    "\n",
    "app.config['SQLALCHEMY_DATABASE_URI'] = 'sqlite:///data.db'\n",
    "db = SQLAlchemy(app)\n",
    "\n",
    "\n",
    "class Book(db.model):\n",
    "    id = db.column(db.Integer, primary_key=True)\n",
    "    name = db.Column(db.String(80), unique=True, nullable=False)\n",
    "    description = db.Column(db.string(120))\n",
    "\n",
    "    def __repr__(self):\n",
    "        return f\"{self.id} - {self.book_name} - {self.author} - {self.publisher}\"\n",
    "    \n",
    "\n",
    "@app.route('/')\n",
    "def index():\n",
    "    return 'hello!'\n",
    "\n",
    "\n",
    "@app.route('/books')\n",
    "def get_books():\n",
    "    books = Books.query.all()\n",
    "    \n",
    "    output = []\n",
    "    for book in books:\n",
    "        book_data = {'id': book.id, 'book_name': book.book_name, 'author': book.author, 'publisher':book.publisher}\n",
    "\n",
    "        output.append(book_data)\n",
    "\n",
    "    return{\"books\": output}\n",
    "\n",
    "\n",
    "@app.route('/books/<id>')\n",
    "def get_book(id):\n",
    "    book = Book.query.get_or_404(id)\n",
    "    return {'id': book.id, 'book_name': book.book_name, 'author': book.author, 'publisher':book.publisher}\n",
    "\n",
    "@app.route('/books',methods=['POST'])\n",
    "def add_book():\n",
    "    book = Book(id=request.json['id'],book_name=request.json['book name'],author=reqeust.json['author'],publisher=request.json['publisher'])\n",
    "    db.session.add(book)\n",
    "    db.session.commit()\n",
    "    return {'id': book.id}"
   ]
  }
 ],
 "metadata": {
  "kernelspec": {
   "display_name": "Python 3 (ipykernel)",
   "language": "python",
   "name": "python3"
  },
  "language_info": {
   "codemirror_mode": {
    "name": "ipython",
    "version": 3
   },
   "file_extension": ".py",
   "mimetype": "text/x-python",
   "name": "python",
   "nbconvert_exporter": "python",
   "pygments_lexer": "ipython3",
   "version": "3.10.9"
  }
 },
 "nbformat": 4,
 "nbformat_minor": 5
}
