{
 "cells": [
  {
   "cell_type": "code",
   "execution_count": 1,
   "id": "78d42598",
   "metadata": {},
   "outputs": [
    {
     "name": "stdout",
     "output_type": "stream",
     "text": [
      "['MOZZARELLA', 'Cinderella']\n",
      "['Harry', 'Ron', 'Hermione']\n",
      "1\n",
      "3\n",
      "5\n",
      "7\n",
      "9\n"
     ]
    }
   ],
   "source": [
    "things = ['mozzarella','cinderella','salmonella']\n",
    "things[1] = things[1].capitalize()\n",
    "things[0] = things[0].upper()\n",
    "things.remove('salmonella')\n",
    "print(things)\n",
    "def good():\n",
    "    return ['Harry','Ron','Hermione']\n",
    "print(good())\n",
    "for n in (n for n in range(10) if n % 2 != 0): \n",
    "    print(n)"
   ]
  },
  {
   "cell_type": "code",
   "execution_count": null,
   "id": "c58009b6",
   "metadata": {},
   "outputs": [],
   "source": []
  }
 ],
 "metadata": {
  "kernelspec": {
   "display_name": "Python 3 (ipykernel)",
   "language": "python",
   "name": "python3"
  },
  "language_info": {
   "codemirror_mode": {
    "name": "ipython",
    "version": 3
   },
   "file_extension": ".py",
   "mimetype": "text/x-python",
   "name": "python",
   "nbconvert_exporter": "python",
   "pygments_lexer": "ipython3",
   "version": "3.10.9"
  }
 },
 "nbformat": 4,
 "nbformat_minor": 5
}
