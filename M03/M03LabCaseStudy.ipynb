{
 "cells": [
  {
   "cell_type": "code",
   "execution_count": 2,
   "id": "0707f317",
   "metadata": {},
   "outputs": [
    {
     "name": "stdout",
     "output_type": "stream",
     "text": [
      "Enter the vehicle type: car, truck, plane, boat, or broomstick: Car\n",
      "Enter the year: 2023\n",
      "Enter the make: Honda\n",
      "Enter the model: Accord\n",
      "Enter the number of doors; 2 or 4: 4\n",
      "Enter the type of roof: solid or sun roof: sun roof\n",
      "Vehicle Information:\n",
      "Vehicle type: Car\n",
      "Year: 2023\n",
      "Make: Honda\n",
      "Model: Accord\n",
      "Number of doors: 4\n",
      "Type of roof: sun roof\n"
     ]
    }
   ],
   "source": [
    "class Vehicle:\n",
    "    def __init__(self, vehicle_type):\n",
    "        self.vehicle_type = vehicle_type\n",
    "        \n",
    "class Automobile(Vehicle):\n",
    "    def __init__(self, vehicle_type, year, make, model, doors, roof):\n",
    "        super().__init__(vehicle_type)\n",
    "        self.year = year\n",
    "        self.make = make\n",
    "        self.model = model\n",
    "        self.doors = doors\n",
    "        self.roof = roof    \n",
    "  \n",
    "    def output(self):\n",
    "        print('Vehicle type:', self.vehicle_type)\n",
    "        print('Year:', self.year)\n",
    "        print('Make:', self.make)\n",
    "        print('Model:', self.model)\n",
    "        print('Number of doors:', self.doors)\n",
    "        print('Type of roof:', self.roof)\n",
    "\n",
    "def main():\n",
    "    vehicle_type = input('Enter the vehicle type: car, truck, plane, boat, or broomstick: ')\n",
    "    year = input('Enter the year: ')\n",
    "    make = input('Enter the make: ')\n",
    "    model = input('Enter the model: ')\n",
    "    doors = input('Enter the number of doors; 2 or 4: ')\n",
    "    roof = input('Enter the type of roof: solid or sun roof: ')\n",
    "    \n",
    "    automobile = Automobile(vehicle_type, year, make, model, doors, roof)\n",
    "\n",
    "    print(f'Vehicle Information:')\n",
    "    automobile.output()\n",
    "\n",
    "if __name__== '__main__':\n",
    "    main()"
   ]
  },
  {
   "cell_type": "code",
   "execution_count": null,
   "id": "d9d43539",
   "metadata": {},
   "outputs": [],
   "source": []
  }
 ],
 "metadata": {
  "kernelspec": {
   "display_name": "Python 3 (ipykernel)",
   "language": "python",
   "name": "python3"
  },
  "language_info": {
   "codemirror_mode": {
    "name": "ipython",
    "version": 3
   },
   "file_extension": ".py",
   "mimetype": "text/x-python",
   "name": "python",
   "nbconvert_exporter": "python",
   "pygments_lexer": "ipython3",
   "version": "3.10.9"
  }
 },
 "nbformat": 4,
 "nbformat_minor": 5
}
